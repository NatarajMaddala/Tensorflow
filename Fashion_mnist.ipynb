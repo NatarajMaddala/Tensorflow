{
  "nbformat": 4,
  "nbformat_minor": 0,
  "metadata": {
    "colab": {
      "name": "Fashion mnist.ipynb",
      "provenance": [],
      "collapsed_sections": [],
      "toc_visible": true,
      "authorship_tag": "ABX9TyP24Bd0CD1uAVxIMifeygT6",
      "include_colab_link": true
    },
    "kernelspec": {
      "name": "python3",
      "display_name": "Python 3"
    },
    "accelerator": "GPU"
  },
  "cells": [
    {
      "cell_type": "markdown",
      "metadata": {
        "id": "view-in-github",
        "colab_type": "text"
      },
      "source": [
        "<a href=\"https://colab.research.google.com/github/NatarajMaddala/Tensorflow/blob/main/Fashion_mnist.ipynb\" target=\"_parent\"><img src=\"https://colab.research.google.com/assets/colab-badge.svg\" alt=\"Open In Colab\"/></a>"
      ]
    },
    {
      "cell_type": "code",
      "metadata": {
        "id": "jVuU71CAE2-_",
        "outputId": "7b9b5adf-dfef-43d5-f95e-3a270f0c48eb",
        "colab": {
          "base_uri": "https://localhost:8080/",
          "height": 34
        }
      },
      "source": [
        "import tensorflow as tf\n",
        "print(tf.__version__)\n",
        "import numpy as np\n",
        "from tensorflow import keras"
      ],
      "execution_count": null,
      "outputs": [
        {
          "output_type": "stream",
          "text": [
            "2.2.0-rc3\n"
          ],
          "name": "stdout"
        }
      ]
    },
    {
      "cell_type": "code",
      "metadata": {
        "id": "cSrc2BWu_zSJ"
      },
      "source": [
        "class mycallback(tf.keras.callbacks.Callback):\n",
        "  def on_epoch_end(self, epoch, logs={}):\n",
        "    if(logs.get('loss')<=0.2):\n",
        "      print(\"\\nReached 80% accuracy so cancelling training\")\n",
        "      self.model.stop_training = True"
      ],
      "execution_count": null,
      "outputs": []
    },
    {
      "cell_type": "code",
      "metadata": {
        "id": "jClRqkZ7FX99"
      },
      "source": [
        "callbacks = mycallback()\n",
        "mnist = tf.keras.datasets.fashion_mnist"
      ],
      "execution_count": null,
      "outputs": []
    },
    {
      "cell_type": "code",
      "metadata": {
        "id": "hlIkFN78G_-N",
        "outputId": "cc957934-a7ee-46e0-b55e-052019994571",
        "colab": {
          "base_uri": "https://localhost:8080/",
          "height": 151
        }
      },
      "source": [
        "(training_im, training_la), (test_im, test_la) = mnist.load_data()"
      ],
      "execution_count": null,
      "outputs": [
        {
          "output_type": "stream",
          "text": [
            "Downloading data from https://storage.googleapis.com/tensorflow/tf-keras-datasets/train-labels-idx1-ubyte.gz\n",
            "32768/29515 [=================================] - 0s 0us/step\n",
            "Downloading data from https://storage.googleapis.com/tensorflow/tf-keras-datasets/train-images-idx3-ubyte.gz\n",
            "26427392/26421880 [==============================] - 0s 0us/step\n",
            "Downloading data from https://storage.googleapis.com/tensorflow/tf-keras-datasets/t10k-labels-idx1-ubyte.gz\n",
            "8192/5148 [===============================================] - 0s 0us/step\n",
            "Downloading data from https://storage.googleapis.com/tensorflow/tf-keras-datasets/t10k-images-idx3-ubyte.gz\n",
            "4423680/4422102 [==============================] - 0s 0us/step\n"
          ],
          "name": "stdout"
        }
      ]
    },
    {
      "cell_type": "code",
      "metadata": {
        "id": "qyezbaK5ztoX",
        "outputId": "1fb002a3-f2b8-4fbc-927f-e15970380d30",
        "colab": {
          "base_uri": "https://localhost:8080/",
          "height": 752
        }
      },
      "source": [
        "\n",
        "np.set_printoptions(linewidth=200)\n",
        "import matplotlib.pyplot as plt\n",
        "plt.imshow(training_im[34])\n",
        "print(training_la[34])\n",
        "print(training_im[34])"
      ],
      "execution_count": null,
      "outputs": [
        {
          "output_type": "stream",
          "text": [
            "0\n",
            "[[  0   0   0   0   0   0   0   0   0  42 110   1   0   0   0   0   0 156  21   0   0   0   0   0   0   0   0   0]\n",
            " [  0   0   0   0   0   1  32  56  40  21 195 170 173 193 183 183 243 135   3  40  44  40   1   0   0   0   0   0]\n",
            " [  0   0   0   0   0  48  50  25   7   1   1  38 173 255 220 154  23   0   0   0  13  32  52   0   0   0   0   0]\n",
            " [  0   0   0   0  25  38  25  19  13  17   0   0   0   0   0   0   0   7  11  11  13  19  34  32   0   0   0   0]\n",
            " [  0   0   0   5  65  25  46  27   9  11  13   3   0   0   0   5   3   0   0   5  15  27  27  50  23   0   0   0]\n",
            " [  0   0   0  28  46  42  32  46   1   0   0   0   0   0   3   0   1  27   9   1  13  28  46  42  38   0   0   0]\n",
            " [  0   0   0  59  25  50  54   9  94 160  98  75  81 108 131  92  61  79 129 148  63  46  61  27  50   0   0   0]\n",
            " [  0   0   0  15  40  46  75  44  32  32   1 127 133  25 173  46 137 110   5   7  50  65  56  40  30   0   0   0]\n",
            " [  0   0   0   0  13  52  81  59  36   0   0  32 106   7  86  23  13  11   0  13  67 129  71  17   0   0   0   0]\n",
            " [  0   0   0   0   0  25 123  96  77  42  32  13   1   5   1  13  27  28  21  57  56  46  19   0   0   0   0   0]\n",
            " [  0   0   0   0   0   0   0  79 112  73  59  44  27  32  32  48  48  46  54  67  34   0   0   0   0   0   0   0]\n",
            " [  0   0   0   0   0   0   0  56 119  54  44  46  40  36  36  36  38  36  65  71  21   0   1   0   0   0   0   0]\n",
            " [  0   0   0   0   0   0   0  36 112  50  44  46  40  42  42  40  38  36  52  90  21   0   1   0   0   0   0   0]\n",
            " [  0   0   0   0   0   1   0  23 102  54  50  42  32  38  42  42  42  36  38  96  17   0   1   0   0   0   0   0]\n",
            " [  0   0   0   0   0   1   0  17  94  52  56  48  40  42  42  42  44  42  38  83  11   0   1   0   0   0   0   0]\n",
            " [  0   0   0   0   0   1   0  15  94  54  54  54  50  44  44  44  46  36  42  77  21   0   0   0   0   0   0   0]\n",
            " [  0   0   0   0   0   1   0  11  88  57  50  52  48  44  44  44  46  40  36  69  48   0   0   0   0   0   0   0]\n",
            " [  0   0   0   0   0   0   0  27  83  56  46  50  50  44  44  44  46  40  27  57  63   0   0   0   0   0   0   0]\n",
            " [  0   0   0   0   0   0   0  48  75  54  42  50  50  44  44  44  44  44  50  48  69   3   0   3   0   0   0   0]\n",
            " [  0   0   0   0   0   0   0  57  67  52  44  46  48  46  44  44  40  40  48  27  61  30   0   1   0   0   0   0]\n",
            " [  0   0   0   0   0   0   0  71  56  48  48  46  50  48  44  44  42  42  46  40  56  50   0   0   0   0   0   0]\n",
            " [  0   0   0   0   0   0   0  71  54  50  50  46  52  46  44  46  48  40  40  50  38  48   0   0   0   0   0   0]\n",
            " [  0   0   0   0   0   0   7  71  57  54  50  48  54  46  44  48  50  48  40  44  44  57   1   0   0   0   0   0]\n",
            " [  0   0   0   0   0   0  25  71  40  52  56  46  48  48  50  42  48  52  44  44  46  52   0   0   0   0   0   0]\n",
            " [  0   0   0   0   0   0  34  65  54  48  52  46  50  48  46  44  46  54  50  48  52  61   5   0   0   0   0   0]\n",
            " [  0   0   0   0   0   0  38  56  50  46  48  46  52  48  38  46  42  52  46  46  48  57  19   0   0   0   0   0]\n",
            " [  0   0   0   0   0   0  57  57  50  52  48  44  50  46  38  46  44  50  52  52  50  57  30   0   0   0   0   0]\n",
            " [  0   0   0   0   0   0  30  30  36  42  42  42  57  57  54  52  50  42  46  32  19  23  13   0   0   0   0   0]]\n"
          ],
          "name": "stdout"
        },
        {
          "output_type": "display_data",
          "data": {
            "image/png": "[encoded data removed]",
            "text/plain": [
              "<Figure size 432x288 with 1 Axes>"
            ]
          },
          "metadata": {
            "tags": [],
            "needs_background": "light"
          }
        }
      ]
    },
    {
      "cell_type": "code",
      "metadata": {
        "id": "VSdrHp-a0V95"
      },
      "source": [
        "training_im = training_im/255.0\n",
        "test_im = test_im/255.0"
      ],
      "execution_count": null,
      "outputs": []
    },
    {
      "cell_type": "code",
      "metadata": {
        "id": "or7bgGLn0yXW"
      },
      "source": [
        "model = tf.keras.models.Sequential([tf.keras.layers.Flatten(),\n",
        "                                   tf.keras.layers.Dense(128, activation=tf.nn.relu),\n",
        "                                   tf.keras.layers.Dense(10, activation=tf.nn.softmax)])"
      ],
      "execution_count": null,
      "outputs": []
    },
    {
      "cell_type": "code",
      "metadata": {
        "id": "eT4YHnlh1uhM",
        "outputId": "00b43834-f258-482a-a104-7817cea5c245",
        "colab": {
          "base_uri": "https://localhost:8080/",
          "height": 202
        }
      },
      "source": [
        "model.compile(optimizer=tf.optimizers.Adam(), loss = 'sparse_categorical_crossentropy', metrics=['accuracy'])\n",
        "model.fit(training_im, training_la, epochs=5, callback)"
      ],
      "execution_count": null,
      "outputs": [
        {
          "output_type": "stream",
          "text": [
            "Epoch 1/5\n",
            "1875/1875 [==============================] - 3s 2ms/step - loss: 0.5033 - accuracy: 0.8221\n",
            "Epoch 2/5\n",
            "1875/1875 [==============================] - 3s 2ms/step - loss: 0.3749 - accuracy: 0.8643\n",
            "Epoch 3/5\n",
            "1875/1875 [==============================] - 3s 2ms/step - loss: 0.3369 - accuracy: 0.8769\n",
            "Epoch 4/5\n",
            "1875/1875 [==============================] - 3s 2ms/step - loss: 0.3137 - accuracy: 0.8860\n",
            "Epoch 5/5\n",
            "1875/1875 [==============================] - 3s 2ms/step - loss: 0.2966 - accuracy: 0.8909\n"
          ],
          "name": "stdout"
        },
        {
          "output_type": "execute_result",
          "data": {
            "text/plain": [
              "<tensorflow.python.keras.callbacks.History at 0x7fe5d04b6278>"
            ]
          },
          "metadata": {
            "tags": []
          },
          "execution_count": 8
        }
      ]
    },
    {
      "cell_type": "code",
      "metadata": {
        "id": "vKep4YzI2Liu",
        "outputId": "1731ec0d-e65c-48d6-c733-ff9c61119b6e",
        "colab": {
          "base_uri": "https://localhost:8080/",
          "height": 52
        }
      },
      "source": [
        "model.evaluate(test_im, test_la)"
      ],
      "execution_count": null,
      "outputs": [
        {
          "output_type": "stream",
          "text": [
            "313/313 [==============================] - 0s 1ms/step - loss: 0.3694 - accuracy: 0.8682\n"
          ],
          "name": "stdout"
        },
        {
          "output_type": "execute_result",
          "data": {
            "text/plain": [
              "[0.369362473487854, 0.8682000041007996]"
            ]
          },
          "metadata": {
            "tags": []
          },
          "execution_count": 10
        }
      ]
    },
    {
      "cell_type": "code",
      "metadata": {
        "id": "lrWLhgOG2YJA",
        "outputId": "4b23e551-c92e-4501-f846-056e5adece36",
        "colab": {
          "base_uri": "https://localhost:8080/",
          "height": 52
        }
      },
      "source": [
        "classifications = model.predict(test_im)\n",
        "print(classifications[0])\n",
        "print(test_la[0])"
      ],
      "execution_count": null,
      "outputs": [
        {
          "output_type": "stream",
          "text": [
            "[3.8471157e-06 1.6055237e-06 4.1662982e-08 3.9444366e-08 4.6782237e-08 3.3045160e-03 1.3500733e-06 4.7403753e-02 5.2682472e-06 9.4927949e-01]\n",
            "9\n"
          ],
          "name": "stdout"
        }
      ]
    },
    {
      "cell_type": "code",
      "metadata": {
        "id": "DG1nm6yr2613",
        "outputId": "9b54f19a-92e2-4364-8d88-85dbe27f8adb",
        "colab": {
          "base_uri": "https://localhost:8080/",
          "height": 615
        }
      },
      "source": [
        "import tensorflow as tf\n",
        "mnist = tf.keras.datasets.fashion_mnist\n",
        "(tr_im, tr_la), (te_im, te_la) = mnist.load_data()\n",
        "tr_im = tr_im.reshape(60000, 28, 28, 1)\n",
        "tr_im = tr_im / 255.0\n",
        "te_im = te_im.reshape(10000, 28, 28, 1)\n",
        "te_im = te_im/255.0\n",
        "model = tf.keras.models.Sequential([\n",
        "    tf.keras.layers.Conv2D(64, (3, 3), activation='relu', input_shape=(28, 28, 1)),\n",
        "    tf.keras.layers.MaxPooling2D(2, 2),\n",
        "    tf.keras.layers.Conv2D(64, (3, 3), activation='relu', input_shape=(28, 28, 1)),\n",
        "    tf.keras.layers.MaxPooling2D(2, 2),\n",
        "    tf.keras.layers.Flatten(),\n",
        "    tf.keras.layers.Dense(128, activation='relu'),\n",
        "    tf.keras.layers.Dense(10, activation='softmax')\n",
        "])\n",
        "model.compile(optimizer='adam', loss='sparse_categorical_crossentropy', metrics=['accuracy'])\n",
        "model.summary()\n",
        "model.fit(tr_im, tr_la, epochs=5)\n",
        "model.evaluate(te_im, te_la)"
      ],
      "execution_count": null,
      "outputs": [
        {
          "output_type": "stream",
          "text": [
            "Model: \"sequential_1\"\n",
            "_________________________________________________________________\n",
            "Layer (type)                 Output Shape              Param #   \n",
            "=================================================================\n",
            "conv2d_2 (Conv2D)            (None, 26, 26, 64)        640       \n",
            "_________________________________________________________________\n",
            "max_pooling2d_2 (MaxPooling2 (None, 13, 13, 64)        0         \n",
            "_________________________________________________________________\n",
            "conv2d_3 (Conv2D)            (None, 11, 11, 64)        36928     \n",
            "_________________________________________________________________\n",
            "max_pooling2d_3 (MaxPooling2 (None, 5, 5, 64)          0         \n",
            "_________________________________________________________________\n",
            "flatten_1 (Flatten)          (None, 1600)              0         \n",
            "_________________________________________________________________\n",
            "dense_2 (Dense)              (None, 128)               204928    \n",
            "_________________________________________________________________\n",
            "dense_3 (Dense)              (None, 10)                1290      \n",
            "=================================================================\n",
            "Total params: 243,786\n",
            "Trainable params: 243,786\n",
            "Non-trainable params: 0\n",
            "_________________________________________________________________\n",
            "Epoch 1/5\n",
            "1875/1875 [==============================] - 6s 3ms/step - loss: 0.4395 - accuracy: 0.8412\n",
            "Epoch 2/5\n",
            "1875/1875 [==============================] - 6s 3ms/step - loss: 0.2971 - accuracy: 0.8906\n",
            "Epoch 3/5\n",
            "1875/1875 [==============================] - 6s 3ms/step - loss: 0.2509 - accuracy: 0.9070\n",
            "Epoch 4/5\n",
            "1875/1875 [==============================] - 6s 3ms/step - loss: 0.2176 - accuracy: 0.9195\n",
            "Epoch 5/5\n",
            "1875/1875 [==============================] - 6s 3ms/step - loss: 0.1920 - accuracy: 0.9283\n",
            "313/313 [==============================] - 1s 2ms/step - loss: 0.2490 - accuracy: 0.9095\n"
          ],
          "name": "stdout"
        },
        {
          "output_type": "execute_result",
          "data": {
            "text/plain": [
              "[0.2489910125732422, 0.909500002861023]"
            ]
          },
          "metadata": {
            "tags": []
          },
          "execution_count": 2
        }
      ]
    }
  ]
}