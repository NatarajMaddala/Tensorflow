{
  "nbformat": 4,
  "nbformat_minor": 0,
  "metadata": {
    "colab": {
      "name": "Dropouts.ipynb",
      "provenance": [],
      "authorship_tag": "ABX9TyPowuBacwdud1SiP4mk6VtH",
      "include_colab_link": true
    },
    "kernelspec": {
      "name": "python3",
      "display_name": "Python 3"
    },
    "accelerator": "GPU"
  },
  "cells": [
    {
      "cell_type": "markdown",
      "metadata": {
        "id": "view-in-github",
        "colab_type": "text"
      },
      "source": [
        "<a href=\"https://colab.research.google.com/github/NatarajMaddala/Tensorflow/blob/main/Dropouts.ipynb\" target=\"_parent\"><img src=\"https://colab.research.google.com/assets/colab-badge.svg\" alt=\"Open In Colab\"/></a>"
      ]
    },
    {
      "cell_type": "code",
      "metadata": {
        "id": "oVsKg_0ER0b_",
        "outputId": "c7938258-05a7-4c62-dcd9-600bf2f12738",
        "colab": {
          "base_uri": "https://localhost:8080/",
          "height": 218
        }
      },
      "source": [
        "import os\n",
        "\n",
        "from tensorflow.keras import layers\n",
        "from tensorflow.keras import Model\n",
        "!wget --no-check-certificate \\\n",
        "    https://storage.googleapis.com/mledu-datasets/inception_v3_weights_tf_dim_ordering_tf_kernels_notop.h5 \\\n",
        "    -O /tmp/inception_v3_weights_tf_dim_ordering_tf_kernels_notop.h5\n",
        "  \n",
        "from tensorflow.keras.applications.inception_v3 import InceptionV3\n",
        "\n",
        "local_weights_file = '/tmp/inception_v3_weights_tf_dim_ordering_tf_kernels_notop.h5'\n",
        "\n",
        "pre_trained_model = InceptionV3(input_shape = (150, 150, 3), \n",
        "                                include_top = False, \n",
        "                                weights = None)\n",
        "\n",
        "pre_trained_model.load_weights(local_weights_file)\n",
        "\n",
        "for layer in pre_trained_model.layers:\n",
        "  layer.trainable = False\n",
        "  \n",
        "# pre_trained_model.summary()\n",
        "\n",
        "last_layer = pre_trained_model.get_layer('mixed7')\n",
        "print('last layer output shape: ', last_layer.output_shape)\n",
        "last_output = last_layer.output"
      ],
      "execution_count": null,
      "outputs": [
        {
          "output_type": "stream",
          "text": [
            "--2020-05-17 06:19:16--  https://storage.googleapis.com/mledu-datasets/inception_v3_weights_tf_dim_ordering_tf_kernels_notop.h5\n",
            "Resolving storage.googleapis.com (storage.googleapis.com)... 108.177.119.128, 2a00:1450:4013:c05::80\n",
            "Connecting to storage.googleapis.com (storage.googleapis.com)|108.177.119.128|:443... connected.\n",
            "HTTP request sent, awaiting response... 200 OK\n",
            "Length: 87910968 (84M) [application/x-hdf]\n",
            "Saving to: ‘/tmp/inception_v3_weights_tf_dim_ordering_tf_kernels_notop.h5’\n",
            "\n",
            "/tmp/inception_v3_w 100%[===================>]  83.84M  92.6MB/s    in 0.9s    \n",
            "\n",
            "2020-05-17 06:19:17 (92.6 MB/s) - ‘/tmp/inception_v3_weights_tf_dim_ordering_tf_kernels_notop.h5’ saved [87910968/87910968]\n",
            "\n",
            "last layer output shape:  (None, 7, 7, 768)\n"
          ],
          "name": "stdout"
        }
      ]
    },
    {
      "cell_type": "code",
      "metadata": {
        "id": "LPitR_aJSVCm"
      },
      "source": [
        "from tensorflow.keras.optimizers import RMSprop\n",
        "x = layers.Flatten()(last_output)\n",
        "x = layers.Dense(1024, activation='relu')(x)\n",
        "x = layers.Dropout(0.2)(x)\n",
        "x = layers.Dense(1, activation='sigmoid')(x)\n",
        "model = Model(pre_trained_model.input, x)\n",
        "model.compile(optimizer= RMSprop(lr= 0.01), loss= 'binary_crossentropy', metrics= ['accuracy'])"
      ],
      "execution_count": null,
      "outputs": []
    },
    {
      "cell_type": "code",
      "metadata": {
        "id": "AyIyTqLQVdAW",
        "outputId": "e8986c68-cb86-4318-dc6a-279eabea100e",
        "colab": {
          "base_uri": "https://localhost:8080/",
          "height": 235
        }
      },
      "source": [
        "!wget --no-check-certificate \\\n",
        "        https://storage.googleapis.com/mledu-datasets/cats_and_dogs_filtered.zip \\\n",
        "       -O /tmp/cats_and_dogs_filtered.zip\n",
        "\n",
        "from tensorflow.keras.preprocessing.image import ImageDataGenerator\n",
        "\n",
        "import os\n",
        "import zipfile\n",
        "\n",
        "local_zip = '//tmp/cats_and_dogs_filtered.zip'\n",
        "\n",
        "zip_ref = zipfile.ZipFile(local_zip, 'r')\n",
        "\n",
        "zip_ref.extractall('/tmp')\n",
        "zip_ref.close()\n",
        "\n",
        "# Define our example directories and files\n",
        "base_dir = '/tmp/cats_and_dogs_filtered'\n",
        "\n",
        "train_dir = os.path.join( base_dir, 'train')\n",
        "validation_dir = os.path.join( base_dir, 'validation')\n",
        "\n",
        "\n",
        "train_cats_dir = os.path.join(train_dir, 'cats') # Directory with our training cat pictures\n",
        "train_dogs_dir = os.path.join(train_dir, 'dogs') # Directory with our training dog pictures\n",
        "validation_cats_dir = os.path.join(validation_dir, 'cats') # Directory with our validation cat pictures\n",
        "validation_dogs_dir = os.path.join(validation_dir, 'dogs')# Directory with our validation dog pictures\n",
        "\n",
        "train_cat_fnames = os.listdir(train_cats_dir)\n",
        "train_dog_fnames = os.listdir(train_dogs_dir)\n",
        "\n",
        "# Add our data-augmentation parameters to ImageDataGenerator\n",
        "train_datagen = ImageDataGenerator(rescale = 1./255.,\n",
        "                                   rotation_range = 40,\n",
        "                                   width_shift_range = 0.2,\n",
        "                                   height_shift_range = 0.2,\n",
        "                                   shear_range = 0.2,\n",
        "                                   zoom_range = 0.2,\n",
        "                                   horizontal_flip = True)\n",
        "\n",
        "# Note that the validation data should not be augmented!\n",
        "test_datagen = ImageDataGenerator( rescale = 1.0/255. )\n",
        "\n",
        "# Flow training images in batches of 20 using train_datagen generator\n",
        "train_generator = train_datagen.flow_from_directory(train_dir,\n",
        "                                                    batch_size = 20,\n",
        "                                                    class_mode = 'binary', \n",
        "                                                    target_size = (150, 150))     \n",
        "\n",
        "# Flow validation images in batches of 20 using test_datagen generator\n",
        "validation_generator =  test_datagen.flow_from_directory( validation_dir,\n",
        "                                                          batch_size  = 20,\n",
        "                                                          class_mode  = 'binary', \n",
        "                                                          target_size = (150, 150))"
      ],
      "execution_count": null,
      "outputs": [
        {
          "output_type": "stream",
          "text": [
            "--2020-05-17 06:34:46--  https://storage.googleapis.com/mledu-datasets/cats_and_dogs_filtered.zip\n",
            "Resolving storage.googleapis.com (storage.googleapis.com)... 173.194.79.128, 2a00:1450:4013:c01::80\n",
            "Connecting to storage.googleapis.com (storage.googleapis.com)|173.194.79.128|:443... connected.\n",
            "HTTP request sent, awaiting response... 200 OK\n",
            "Length: 68606236 (65M) [application/zip]\n",
            "Saving to: ‘/tmp/cats_and_dogs_filtered.zip’\n",
            "\n",
            "\r          /tmp/cats   0%[                    ]       0  --.-KB/s               \r         /tmp/cats_   6%[>                   ]   4.01M  14.1MB/s               \r        /tmp/cats_a  48%[========>           ]  32.01M  54.8MB/s               \r/tmp/cats_and_dogs_ 100%[===================>]  65.43M  95.8MB/s    in 0.7s    \n",
            "\n",
            "2020-05-17 06:34:47 (95.8 MB/s) - ‘/tmp/cats_and_dogs_filtered.zip’ saved [68606236/68606236]\n",
            "\n",
            "Found 2000 images belonging to 2 classes.\n",
            "Found 1000 images belonging to 2 classes.\n"
          ],
          "name": "stdout"
        }
      ]
    },
    {
      "cell_type": "code",
      "metadata": {
        "id": "ChkgZ-V0V4VY",
        "outputId": "2e670acd-1f79-4aac-dd72-9fe01c96e7d3",
        "colab": {
          "base_uri": "https://localhost:8080/",
          "height": 689
        }
      },
      "source": [
        "history = model.fit(\n",
        "            train_generator,\n",
        "            validation_data = validation_generator,\n",
        "            steps_per_epoch = 100,\n",
        "            epochs = 20,\n",
        "            validation_steps = 50,\n",
        "            verbose = 1)"
      ],
      "execution_count": null,
      "outputs": [
        {
          "output_type": "stream",
          "text": [
            "Epoch 1/20\n",
            "100/100 [==============================] - 18s 177ms/step - loss: 1.2378 - accuracy: 0.8745 - val_loss: 0.3123 - val_accuracy: 0.9530\n",
            "Epoch 2/20\n",
            "100/100 [==============================] - 18s 177ms/step - loss: 0.7792 - accuracy: 0.8775 - val_loss: 0.7797 - val_accuracy: 0.8820\n",
            "Epoch 3/20\n",
            "100/100 [==============================] - 18s 177ms/step - loss: 0.6724 - accuracy: 0.8965 - val_loss: 0.4244 - val_accuracy: 0.9490\n",
            "Epoch 4/20\n",
            "100/100 [==============================] - 18s 178ms/step - loss: 0.6813 - accuracy: 0.8795 - val_loss: 0.2882 - val_accuracy: 0.9550\n",
            "Epoch 5/20\n",
            "100/100 [==============================] - 18s 177ms/step - loss: 0.5579 - accuracy: 0.8995 - val_loss: 0.8164 - val_accuracy: 0.9350\n",
            "Epoch 6/20\n",
            "100/100 [==============================] - 18s 178ms/step - loss: 0.5819 - accuracy: 0.9030 - val_loss: 0.6137 - val_accuracy: 0.9190\n",
            "Epoch 7/20\n",
            "100/100 [==============================] - 18s 178ms/step - loss: 0.7013 - accuracy: 0.9070 - val_loss: 0.2875 - val_accuracy: 0.9520\n",
            "Epoch 8/20\n",
            "100/100 [==============================] - 18s 178ms/step - loss: 0.6567 - accuracy: 0.9070 - val_loss: 0.9561 - val_accuracy: 0.8930\n",
            "Epoch 9/20\n",
            "100/100 [==============================] - 18s 177ms/step - loss: 0.4737 - accuracy: 0.9130 - val_loss: 0.3781 - val_accuracy: 0.9380\n",
            "Epoch 10/20\n",
            "100/100 [==============================] - 18s 176ms/step - loss: 0.5302 - accuracy: 0.8940 - val_loss: 0.4625 - val_accuracy: 0.9360\n",
            "Epoch 11/20\n",
            "100/100 [==============================] - 18s 176ms/step - loss: 0.4157 - accuracy: 0.9200 - val_loss: 0.3195 - val_accuracy: 0.9620\n",
            "Epoch 12/20\n",
            "100/100 [==============================] - 18s 178ms/step - loss: 0.5375 - accuracy: 0.9110 - val_loss: 0.2230 - val_accuracy: 0.9580\n",
            "Epoch 13/20\n",
            "100/100 [==============================] - 18s 179ms/step - loss: 0.4244 - accuracy: 0.9095 - val_loss: 0.4123 - val_accuracy: 0.9450\n",
            "Epoch 14/20\n",
            "100/100 [==============================] - 18s 177ms/step - loss: 0.3734 - accuracy: 0.9185 - val_loss: 0.6566 - val_accuracy: 0.9320\n",
            "Epoch 15/20\n",
            "100/100 [==============================] - 18s 178ms/step - loss: 0.4521 - accuracy: 0.9170 - val_loss: 0.2196 - val_accuracy: 0.9630\n",
            "Epoch 16/20\n",
            "100/100 [==============================] - 18s 177ms/step - loss: 0.3319 - accuracy: 0.9205 - val_loss: 0.3145 - val_accuracy: 0.9590\n",
            "Epoch 17/20\n",
            "100/100 [==============================] - 18s 178ms/step - loss: 0.4551 - accuracy: 0.9155 - val_loss: 0.3524 - val_accuracy: 0.9450\n",
            "Epoch 18/20\n",
            "100/100 [==============================] - 18s 176ms/step - loss: 0.4211 - accuracy: 0.9190 - val_loss: 0.2398 - val_accuracy: 0.9590\n",
            "Epoch 19/20\n",
            "100/100 [==============================] - 18s 178ms/step - loss: 0.3186 - accuracy: 0.9350 - val_loss: 0.3335 - val_accuracy: 0.9600\n",
            "Epoch 20/20\n",
            "100/100 [==============================] - 18s 177ms/step - loss: 0.3139 - accuracy: 0.9255 - val_loss: 0.1141 - val_accuracy: 0.9750\n"
          ],
          "name": "stdout"
        }
      ]
    },
    {
      "cell_type": "code",
      "metadata": {
        "id": "7qQsLubBV728",
        "outputId": "4285fad4-4221-4b9f-bf23-ef479efb5610",
        "colab": {
          "base_uri": "https://localhost:8080/",
          "height": 298
        }
      },
      "source": [
        "import matplotlib.pyplot as plt\n",
        "acc = history.history['accuracy']\n",
        "val_acc = history.history['val_accuracy']\n",
        "loss = history.history['loss']\n",
        "val_loss = history.history['val_loss']\n",
        "\n",
        "epochs = range(len(acc))\n",
        "\n",
        "plt.plot(epochs, acc, 'r', label='Training accuracy')\n",
        "plt.plot(epochs, val_acc, 'b', label='Validation accuracy')\n",
        "plt.title('Training and validation accuracy')\n",
        "plt.legend(loc=0)\n",
        "plt.figure()\n",
        "\n",
        "\n",
        "plt.show()"
      ],
      "execution_count": null,
      "outputs": [
        {
          "output_type": "display_data",
          "data": {
            "image/png": "[encoded data removed]",
            "text/plain": [
              "<Figure size 432x288 with 1 Axes>"
            ]
          },
          "metadata": {
            "tags": [],
            "needs_background": "light"
          }
        },
        {
          "output_type": "display_data",
          "data": {
            "text/plain": [
              "<Figure size 432x288 with 0 Axes>"
            ]
          },
          "metadata": {
            "tags": []
          }
        }
      ]
    }
  ]
}